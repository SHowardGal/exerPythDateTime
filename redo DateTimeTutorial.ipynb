{
 "cells": [
  {
   "cell_type": "code",
   "execution_count": 1,
   "id": "1d7345bb",
   "metadata": {},
   "outputs": [
    {
     "ename": "ValueError",
     "evalue": "microsecond must be in 0..999999",
     "output_type": "error",
     "traceback": [
      "\u001b[1;31m---------------------------------------------------------------------------\u001b[0m",
      "\u001b[1;31mValueError\u001b[0m                                Traceback (most recent call last)",
      "\u001b[1;32m<ipython-input-1-095af133b4cd>\u001b[0m in \u001b[0;36m<module>\u001b[1;34m\u001b[0m\n\u001b[0;32m      1\u001b[0m \u001b[1;32mimport\u001b[0m \u001b[0mdatetime\u001b[0m\u001b[1;33m\u001b[0m\u001b[1;33m\u001b[0m\u001b[0m\n\u001b[0;32m      2\u001b[0m \u001b[1;33m\u001b[0m\u001b[0m\n\u001b[1;32m----> 3\u001b[1;33m \u001b[0mt\u001b[0m \u001b[1;33m=\u001b[0m \u001b[0mdatetime\u001b[0m\u001b[1;33m.\u001b[0m\u001b[0mtime\u001b[0m\u001b[1;33m(\u001b[0m\u001b[1;36m9\u001b[0m\u001b[1;33m,\u001b[0m \u001b[1;36m30\u001b[0m\u001b[1;33m,\u001b[0m \u001b[1;36m45\u001b[0m\u001b[1;33m,\u001b[0m \u001b[1;36m1000000\u001b[0m\u001b[1;33m)\u001b[0m\u001b[1;33m\u001b[0m\u001b[1;33m\u001b[0m\u001b[0m\n\u001b[0m\u001b[0;32m      4\u001b[0m \u001b[0mprint\u001b[0m\u001b[1;33m(\u001b[0m\u001b[0mt\u001b[0m\u001b[1;33m)\u001b[0m\u001b[1;33m\u001b[0m\u001b[1;33m\u001b[0m\u001b[0m\n\u001b[0;32m      5\u001b[0m \u001b[0mprint\u001b[0m\u001b[1;33m(\u001b[0m\u001b[0mt\u001b[0m\u001b[1;33m.\u001b[0m\u001b[0mhour\u001b[0m\u001b[1;33m)\u001b[0m\u001b[1;33m\u001b[0m\u001b[1;33m\u001b[0m\u001b[0m\n",
      "\u001b[1;31mValueError\u001b[0m: microsecond must be in 0..999999"
     ]
    }
   ],
   "source": [
    "import datetime\n",
    "\n",
    "t = datetime.time(9, 30, 45, 1000000)\n",
    "print(t)\n",
    "print(t.hour)\n",
    "\n",
    "dt=datetime.datetime(2016, 7, 26, 12, 30, 45, 100000)\n",
    "print(dt)\n",
    "\n",
    "tdelta = datetime.timedelta(days=7)\n",
    "\n",
    "print(dt.year)\n",
    "\n",
    "print(dt + tdelta)\n",
    "\n",
    "tdelta = datetime.timedelta(hours=12)\n",
    "print(dt + tdelta)\n",
    "\n",
    "dt_today=datetime.datetime.today()\n",
    "dt_now=datetime.datetime.now()\n",
    "dt_utcnow=datetime.datetime.utcnow()\n",
    "print(dt_today)\n",
    "print(dt_now)\n",
    "print(dt_utcnow)\n",
    "\n",
    "import pytz\n",
    "\n",
    "dt = datetime.datetime(2016, 7, 27, 12, 30, 45, tzinfo=pytz.UTC)\n",
    "print(dt)\n",
    "\n",
    "dt_now=datetime.datetime.now(tz=pytz.UTC)\n",
    "print(dt_now)\n",
    "\n",
    "dt_utcnow=datetime.datetime.utcnow().replace(txinfo=pytz.UTC)\n",
    "print(dt_utcnow)\n",
    "\n",
    "dt_mtn = dt_utcnow.astimezone(pytz.timezone('US/Mountain'))\n",
    "print(dt_mtn)\n",
    "\n",
    "for tz in pytz.all_timezones:\n",
    "    print(tz)\n",
    "\n",
    "dt_mtn = datetime.datetime.now()\n",
    "print(dt_mtn)\n",
    "\n",
    "mtn_tz = pytz.timezone('US/Mountain')\n",
    "dt_mtn = mtn_tz.localize(dt_mtn)\n",
    "print(dt_mtn)\n",
    "\n",
    "dt_east = dt_mtn.astimezone(pytz.timezone(US/Eastern))\n",
    "\n",
    "dt_mtn = dt_utcnow.astimezone(pytz.timezone('US/Mountain'))\n",
    "\n",
    "print(dt_mtn.isoformat())\n",
    "print(dt_mtn.strftime('%B %d, %Y'))\n",
    "\n",
    "dt_str = 'July 26, 2016'\n",
    "\n",
    "dt = datetime.datetime.strptime(dt_str),'%B %d, %Y'\n",
    "print(dt)\n"
   ]
  },
  {
   "cell_type": "code",
   "execution_count": null,
   "id": "2009160b",
   "metadata": {},
   "outputs": [],
   "source": []
  }
 ],
 "metadata": {
  "kernelspec": {
   "display_name": "Python 3",
   "language": "python",
   "name": "python3"
  },
  "language_info": {
   "codemirror_mode": {
    "name": "ipython",
    "version": 3
   },
   "file_extension": ".py",
   "mimetype": "text/x-python",
   "name": "python",
   "nbconvert_exporter": "python",
   "pygments_lexer": "ipython3",
   "version": "3.8.8"
  }
 },
 "nbformat": 4,
 "nbformat_minor": 5
}
